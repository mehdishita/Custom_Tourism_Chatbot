{
 "cells": [
  {
   "cell_type": "markdown",
   "id": "124e5672",
   "metadata": {},
   "source": [
    "# Custom Chatbot Project"
   ]
  },
  {
   "cell_type": "markdown",
   "id": "2a4a94b3",
   "metadata": {},
   "source": [
    "TODO: In this cell, write an explanation of which dataset you have chosen and why it is appropriate for this task\n",
    "\n",
    "I chose a tourism dataset because it contains structured travel-related\n",
    "information such as destinations, best seasons, budgets, and attractions. \n",
    "This type of domain-specific data is not always well-covered by the base model, \n",
    "so including it as context allows the chatbot to give more accurate and relevant \n",
    "recommendations to users."
   ]
  },
  {
   "cell_type": "markdown",
   "id": "a63d4c5f",
   "metadata": {},
   "source": [
    "## Data Wrangling\n",
    "\n",
    "TODO: In the cells below, load your chosen dataset into a `pandas` dataframe with a column named `\"text\"`. This column should contain all of your text data, separated into at least 20 rows."
   ]
  },
  {
   "cell_type": "code",
   "execution_count": 4,
   "id": "c69b83a1",
   "metadata": {},
   "outputs": [
    {
     "data": {
      "text/html": [
       "<div>\n",
       "<style scoped>\n",
       "    .dataframe tbody tr th:only-of-type {\n",
       "        vertical-align: middle;\n",
       "    }\n",
       "\n",
       "    .dataframe tbody tr th {\n",
       "        vertical-align: top;\n",
       "    }\n",
       "\n",
       "    .dataframe thead th {\n",
       "        text-align: right;\n",
       "    }\n",
       "</style>\n",
       "<table border=\"1\" class=\"dataframe\">\n",
       "  <thead>\n",
       "    <tr style=\"text-align: right;\">\n",
       "      <th></th>\n",
       "      <th>text</th>\n",
       "    </tr>\n",
       "  </thead>\n",
       "  <tbody>\n",
       "    <tr>\n",
       "      <th>0</th>\n",
       "      <td>Destination: Japan. Best season: spring (March...</td>\n",
       "    </tr>\n",
       "    <tr>\n",
       "      <th>1</th>\n",
       "      <td>Destination: Morocco. Best season: April to Ju...</td>\n",
       "    </tr>\n",
       "    <tr>\n",
       "      <th>2</th>\n",
       "      <td>Destination: Thailand. Best season: November t...</td>\n",
       "    </tr>\n",
       "    <tr>\n",
       "      <th>3</th>\n",
       "      <td>Destination: Italy. Best season: April to Octo...</td>\n",
       "    </tr>\n",
       "    <tr>\n",
       "      <th>4</th>\n",
       "      <td>Destination: Canada. Best season: September to...</td>\n",
       "    </tr>\n",
       "  </tbody>\n",
       "</table>\n",
       "</div>"
      ],
      "text/plain": [
       "                                                text\n",
       "0  Destination: Japan. Best season: spring (March...\n",
       "1  Destination: Morocco. Best season: April to Ju...\n",
       "2  Destination: Thailand. Best season: November t...\n",
       "3  Destination: Italy. Best season: April to Octo...\n",
       "4  Destination: Canada. Best season: September to..."
      ]
     },
     "execution_count": 4,
     "metadata": {},
     "output_type": "execute_result"
    }
   ],
   "source": [
    "import pandas as pd\n",
    "\n",
    "df = pd.read_csv(\"data/tourism_dataset.csv\")\n",
    "df.head()"
   ]
  },
  {
   "cell_type": "code",
   "execution_count": 5,
   "id": "0a595980",
   "metadata": {},
   "outputs": [
    {
     "data": {
      "text/plain": [
       "25"
      ]
     },
     "execution_count": 5,
     "metadata": {},
     "output_type": "execute_result"
    }
   ],
   "source": [
    "len(df)"
   ]
  },
  {
   "cell_type": "code",
   "execution_count": 7,
   "id": "acb3a9fd",
   "metadata": {},
   "outputs": [
    {
     "name": "stdout",
     "output_type": "stream",
     "text": [
      "text    0\n",
      "dtype: int64\n"
     ]
    }
   ],
   "source": [
    "print(df.isnull().sum())"
   ]
  },
  {
   "cell_type": "code",
   "execution_count": 8,
   "id": "952f08f9",
   "metadata": {},
   "outputs": [
    {
     "data": {
      "text/html": [
       "<div>\n",
       "<style scoped>\n",
       "    .dataframe tbody tr th:only-of-type {\n",
       "        vertical-align: middle;\n",
       "    }\n",
       "\n",
       "    .dataframe tbody tr th {\n",
       "        vertical-align: top;\n",
       "    }\n",
       "\n",
       "    .dataframe thead th {\n",
       "        text-align: right;\n",
       "    }\n",
       "</style>\n",
       "<table border=\"1\" class=\"dataframe\">\n",
       "  <thead>\n",
       "    <tr style=\"text-align: right;\">\n",
       "      <th></th>\n",
       "      <th>text</th>\n",
       "    </tr>\n",
       "  </thead>\n",
       "  <tbody>\n",
       "    <tr>\n",
       "      <th>0</th>\n",
       "      <td>Destination: Japan. Best season: spring (March...</td>\n",
       "    </tr>\n",
       "    <tr>\n",
       "      <th>1</th>\n",
       "      <td>Destination: Morocco. Best season: April to Ju...</td>\n",
       "    </tr>\n",
       "    <tr>\n",
       "      <th>2</th>\n",
       "      <td>Destination: Thailand. Best season: November t...</td>\n",
       "    </tr>\n",
       "    <tr>\n",
       "      <th>3</th>\n",
       "      <td>Destination: Italy. Best season: April to Octo...</td>\n",
       "    </tr>\n",
       "    <tr>\n",
       "      <th>4</th>\n",
       "      <td>Destination: Canada. Best season: September to...</td>\n",
       "    </tr>\n",
       "  </tbody>\n",
       "</table>\n",
       "</div>"
      ],
      "text/plain": [
       "                                                text\n",
       "0  Destination: Japan. Best season: spring (March...\n",
       "1  Destination: Morocco. Best season: April to Ju...\n",
       "2  Destination: Thailand. Best season: November t...\n",
       "3  Destination: Italy. Best season: April to Octo...\n",
       "4  Destination: Canada. Best season: September to..."
      ]
     },
     "execution_count": 8,
     "metadata": {},
     "output_type": "execute_result"
    }
   ],
   "source": [
    "df['text'] = df['text'].str.strip()\n",
    "df.head()"
   ]
  },
  {
   "cell_type": "markdown",
   "id": "ae769871",
   "metadata": {},
   "source": [
    "## Custom Query Completion\n",
    "\n",
    "TODO: In the cells below, compose a custom query using your chosen dataset and retrieve results from an OpenAI `Completion` model. You may copy and paste any useful code from the course materials."
   ]
  },
  {
   "cell_type": "code",
   "execution_count": 10,
   "id": "582f0656",
   "metadata": {},
   "outputs": [],
   "source": [
    "import openai\n",
    "openai.api_base = \"https://openai.vocareum.com/v1\"\n",
    "openai.api_key = \"voc-14512486126677429913168a0a04d672009.56515721\""
   ]
  },
  {
   "cell_type": "code",
   "execution_count": 11,
   "id": "8b6e1f75",
   "metadata": {},
   "outputs": [
    {
     "data": {
      "text/html": [
       "<div>\n",
       "<style scoped>\n",
       "    .dataframe tbody tr th:only-of-type {\n",
       "        vertical-align: middle;\n",
       "    }\n",
       "\n",
       "    .dataframe tbody tr th {\n",
       "        vertical-align: top;\n",
       "    }\n",
       "\n",
       "    .dataframe thead th {\n",
       "        text-align: right;\n",
       "    }\n",
       "</style>\n",
       "<table border=\"1\" class=\"dataframe\">\n",
       "  <thead>\n",
       "    <tr style=\"text-align: right;\">\n",
       "      <th></th>\n",
       "      <th>text</th>\n",
       "      <th>embeddings</th>\n",
       "    </tr>\n",
       "  </thead>\n",
       "  <tbody>\n",
       "    <tr>\n",
       "      <th>0</th>\n",
       "      <td>Destination: Japan. Best season: spring (March...</td>\n",
       "      <td>[0.0071809724904596806, -0.023471377789974213,...</td>\n",
       "    </tr>\n",
       "    <tr>\n",
       "      <th>1</th>\n",
       "      <td>Destination: Morocco. Best season: April to Ju...</td>\n",
       "      <td>[0.003225389402359724, -0.014273237437009811, ...</td>\n",
       "    </tr>\n",
       "    <tr>\n",
       "      <th>2</th>\n",
       "      <td>Destination: Thailand. Best season: November t...</td>\n",
       "      <td>[-0.0004952811868861318, -0.03182801231741905,...</td>\n",
       "    </tr>\n",
       "    <tr>\n",
       "      <th>3</th>\n",
       "      <td>Destination: Italy. Best season: April to Octo...</td>\n",
       "      <td>[0.01141958124935627, -0.03318019211292267, 0....</td>\n",
       "    </tr>\n",
       "    <tr>\n",
       "      <th>4</th>\n",
       "      <td>Destination: Canada. Best season: September to...</td>\n",
       "      <td>[0.0035308916121721268, -0.028839368373155594,...</td>\n",
       "    </tr>\n",
       "  </tbody>\n",
       "</table>\n",
       "</div>"
      ],
      "text/plain": [
       "                                                text  \\\n",
       "0  Destination: Japan. Best season: spring (March...   \n",
       "1  Destination: Morocco. Best season: April to Ju...   \n",
       "2  Destination: Thailand. Best season: November t...   \n",
       "3  Destination: Italy. Best season: April to Octo...   \n",
       "4  Destination: Canada. Best season: September to...   \n",
       "\n",
       "                                          embeddings  \n",
       "0  [0.0071809724904596806, -0.023471377789974213,...  \n",
       "1  [0.003225389402359724, -0.014273237437009811, ...  \n",
       "2  [-0.0004952811868861318, -0.03182801231741905,...  \n",
       "3  [0.01141958124935627, -0.03318019211292267, 0....  \n",
       "4  [0.0035308916121721268, -0.028839368373155594,...  "
      ]
     },
     "execution_count": 11,
     "metadata": {},
     "output_type": "execute_result"
    }
   ],
   "source": [
    "EMBEDDING_MODEL_NAME = \"text-embedding-ada-002\"\n",
    "batch_size = 100\n",
    "embeddings = []\n",
    "for i in range(0, len(df), batch_size):\n",
    "    # Send text data to OpenAI model to get embeddings\n",
    "    response = openai.Embedding.create(\n",
    "        input=df.iloc[i:i+batch_size][\"text\"].tolist(),\n",
    "        engine=EMBEDDING_MODEL_NAME\n",
    "    )\n",
    "    \n",
    "    # Add embeddings to list\n",
    "    embeddings.extend([data[\"embedding\"] for data in response[\"data\"]])\n",
    "\n",
    "# Add embeddings list to dataframe\n",
    "df[\"embeddings\"] = embeddings\n",
    "df.head()"
   ]
  },
  {
   "cell_type": "code",
   "execution_count": 12,
   "id": "13f2dcd7",
   "metadata": {},
   "outputs": [],
   "source": [
    "from openai.embeddings_utils import get_embedding, distances_from_embeddings\n",
    "\n",
    "def get_rows_sorted_by_relevance(question, df):\n",
    "    \"\"\"\n",
    "    Function that takes in a question string and a dataframe containing\n",
    "    rows of text and associated embeddings, and returns that dataframe\n",
    "    sorted from least to most relevant for that question\n",
    "    \"\"\"\n",
    "    \n",
    "    # Get embeddings for the question text\n",
    "    question_embeddings = get_embedding(question, engine=EMBEDDING_MODEL_NAME)\n",
    "    \n",
    "    # Make a copy of the dataframe and add a \"distances\" column containing\n",
    "    # the cosine distances between each row's embeddings and the\n",
    "    # embeddings of the question\n",
    "    df_copy = df.copy()\n",
    "    df_copy[\"distances\"] = distances_from_embeddings(\n",
    "        question_embeddings,\n",
    "        df_copy[\"embeddings\"].values,\n",
    "        distance_metric=\"cosine\"\n",
    "    )\n",
    "    \n",
    "    # Sort the copied dataframe by the distances and return it\n",
    "    # (shorter distance = more relevant so we sort in ascending order)\n",
    "    df_copy.sort_values(\"distances\", ascending=True, inplace=True)\n",
    "    return df_copy\n"
   ]
  },
  {
   "cell_type": "code",
   "execution_count": 13,
   "id": "c403f543",
   "metadata": {},
   "outputs": [
    {
     "data": {
      "text/html": [
       "<div>\n",
       "<style scoped>\n",
       "    .dataframe tbody tr th:only-of-type {\n",
       "        vertical-align: middle;\n",
       "    }\n",
       "\n",
       "    .dataframe tbody tr th {\n",
       "        vertical-align: top;\n",
       "    }\n",
       "\n",
       "    .dataframe thead th {\n",
       "        text-align: right;\n",
       "    }\n",
       "</style>\n",
       "<table border=\"1\" class=\"dataframe\">\n",
       "  <thead>\n",
       "    <tr style=\"text-align: right;\">\n",
       "      <th></th>\n",
       "      <th>text</th>\n",
       "      <th>distances</th>\n",
       "    </tr>\n",
       "  </thead>\n",
       "  <tbody>\n",
       "    <tr>\n",
       "      <th>19</th>\n",
       "      <td>Destination: Switzerland. Best season: Decembe...</td>\n",
       "      <td>0.187535</td>\n",
       "    </tr>\n",
       "    <tr>\n",
       "      <th>15</th>\n",
       "      <td>Destination: Indonesia (Bali). Best season: Ma...</td>\n",
       "      <td>0.192354</td>\n",
       "    </tr>\n",
       "    <tr>\n",
       "      <th>14</th>\n",
       "      <td>Destination: United States (West). Best season...</td>\n",
       "      <td>0.194021</td>\n",
       "    </tr>\n",
       "    <tr>\n",
       "      <th>9</th>\n",
       "      <td>Destination: Greece. Best season: May to Septe...</td>\n",
       "      <td>0.194623</td>\n",
       "    </tr>\n",
       "    <tr>\n",
       "      <th>5</th>\n",
       "      <td>Destination: Spain. Best season: May to Septem...</td>\n",
       "      <td>0.195084</td>\n",
       "    </tr>\n",
       "  </tbody>\n",
       "</table>\n",
       "</div>"
      ],
      "text/plain": [
       "                                                 text  distances\n",
       "19  Destination: Switzerland. Best season: Decembe...   0.187535\n",
       "15  Destination: Indonesia (Bali). Best season: Ma...   0.192354\n",
       "14  Destination: United States (West). Best season...   0.194021\n",
       "9   Destination: Greece. Best season: May to Septe...   0.194623\n",
       "5   Destination: Spain. Best season: May to Septem...   0.195084"
      ]
     },
     "execution_count": 13,
     "metadata": {},
     "output_type": "execute_result"
    }
   ],
   "source": [
    "question = \"I am looking for a destination with a hight budget.\"\n",
    "relevant_destinations = get_rows_sorted_by_relevance(question, df)\n",
    "\n",
    "# Show the top 5 most relevant destinations\n",
    "relevant_destinations[[\"text\", \"distances\"]].head(5)"
   ]
  },
  {
   "cell_type": "code",
   "execution_count": 14,
   "id": "74280b92",
   "metadata": {},
   "outputs": [
    {
     "data": {
      "text/plain": [
       "'Destination: Switzerland. Best season: December to March (ski) or June to September (hiking). Recommended for: families, nature lovers. Budget: high. Attractions: Alps, Zurich, Geneva.'"
      ]
     },
     "execution_count": 14,
     "metadata": {},
     "output_type": "execute_result"
    }
   ],
   "source": [
    "df.iloc[19][\"text\"]"
   ]
  },
  {
   "cell_type": "code",
   "execution_count": 15,
   "id": "71a82297",
   "metadata": {},
   "outputs": [],
   "source": [
    "import tiktoken\n",
    "\n",
    "def create_prompt(question, df, max_token_count):\n",
    "    \"\"\"\n",
    "    Given a question and a dataframe containing rows of text and their\n",
    "    embeddings, return a text prompt to send to a Completion model\n",
    "    \"\"\"\n",
    "    # Create a tokenizer that is designed to align with our embeddings\n",
    "    tokenizer = tiktoken.get_encoding(\"cl100k_base\")\n",
    "    \n",
    "    # Count the number of tokens in the prompt template and question\n",
    "    prompt_template = \"\"\"\n",
    "Answer the question based on the context below, and if the question\n",
    "can't be answered based on the context, say \"I don't know\"\n",
    "\n",
    "Context: \n",
    "\n",
    "{}\n",
    "\n",
    "---\n",
    "\n",
    "Question: {}\n",
    "Answer:\"\"\"\n",
    "    \n",
    "    current_token_count = len(tokenizer.encode(prompt_template)) + \\\n",
    "                            len(tokenizer.encode(question))\n",
    "    \n",
    "    context = []\n",
    "    for text in get_rows_sorted_by_relevance(question, df)[\"text\"].values:\n",
    "        \n",
    "        # Increase the counter based on the number of tokens in this row\n",
    "        text_token_count = len(tokenizer.encode(text))\n",
    "        current_token_count += text_token_count\n",
    "        \n",
    "        # Add the row of text to the list if we haven't exceeded the max\n",
    "        if current_token_count <= max_token_count:\n",
    "            context.append(text)\n",
    "        else:\n",
    "            break\n",
    "\n",
    "    return prompt_template.format(\"\\n\\n###\\n\\n\".join(context), question)\n",
    "    "
   ]
  },
  {
   "cell_type": "code",
   "execution_count": 16,
   "id": "e7f7f1cb",
   "metadata": {},
   "outputs": [],
   "source": [
    "COMPLETION_MODEL_NAME = \"gpt-3.5-turbo-instruct\"\n",
    "\n",
    "def answer_question(question, df, max_prompt_tokens=1800, max_answer_tokens=150):\n",
    "    prompt = create_prompt(question, df, max_prompt_tokens)\n",
    "    try:\n",
    "        response = openai.Completion.create(\n",
    "            model=COMPLETION_MODEL_NAME,\n",
    "            prompt=prompt,\n",
    "            max_tokens=max_answer_tokens\n",
    "        )\n",
    "        return response[\"choices\"][0][\"text\"].strip()\n",
    "    except Exception as e:\n",
    "        print(e)\n",
    "        return \"\"\n"
   ]
  },
  {
   "cell_type": "code",
   "execution_count": 24,
   "id": "f51af4fe",
   "metadata": {},
   "outputs": [],
   "source": [
    "def basic_answer_question(question, max_tokens=50):\n",
    "    \"\"\"\n",
    "    Get a direct answer from the model without adding dataset context.\n",
    "    \"\"\"\n",
    "    try:\n",
    "        response = openai.Completion.create(\n",
    "            model=COMPLETION_MODEL_NAME,\n",
    "            prompt=question,\n",
    "            max_tokens=max_tokens\n",
    "        )\n",
    "        return response[\"choices\"][0][\"text\"].strip()\n",
    "    except Exception as e:\n",
    "        print(e)\n",
    "        return \"\"\n"
   ]
  },
  {
   "cell_type": "markdown",
   "id": "1783f146",
   "metadata": {},
   "source": [
    "## Custom Performance Demonstration\n",
    "\n",
    "TODO: In the cells below, demonstrate the performance of your custom query using at least 2 questions. For each question, show the answer from a basic `Completion` model query as well as the answer from your custom query."
   ]
  },
  {
   "cell_type": "markdown",
   "id": "8a3612b0",
   "metadata": {},
   "source": [
    "### Performance comparison"
   ]
  },
  {
   "cell_type": "code",
   "execution_count": 25,
   "id": "feca7e20",
   "metadata": {},
   "outputs": [
    {
     "name": "stdout",
     "output_type": "stream",
     "text": [
      "Question 1: Suggest two destinations where I could eat delicious food.\n",
      "\n",
      "Basic Answer: 1) Tokyo, Japan - known for its variety of gourmet restaurants and street food, Tokyo offers a wide range of delicious food such as sushi, ramen, okonomiyaki, and tempura. The city is also home to numerous Mich\n",
      "\n",
      "Custom Answer: Spain and Thailand.\n",
      "--------------------------------------------------\n"
     ]
    }
   ],
   "source": [
    "# Test 1\n",
    "q1 = \"Suggest two destinations where I could eat delicious food.\"\n",
    "\n",
    "print(\"Question 1:\", q1)\n",
    "print(\"\\nBasic Answer:\", basic_answer_question(q1))\n",
    "print(\"\\nCustom Answer:\", answer_question(q1, df))\n",
    "print(\"-\" * 50)"
   ]
  },
  {
   "cell_type": "code",
   "execution_count": 27,
   "id": "5ff7510c",
   "metadata": {},
   "outputs": [
    {
     "name": "stdout",
     "output_type": "stream",
     "text": [
      "Question 2: I am wealthy and want to visit a luxurious and wealthy country. Which country would you suggest?\n",
      "\n",
      "Basic Answer: There are many luxurious and wealthy countries in the world, each with its own unique offerings. Here are five options that might interest you:\n",
      "\n",
      "1. Monaco: With its glamorous lifestyle, picturesque Mediterranean coastline, and exclusive yachts and casinos, Monaco is\n",
      "\n",
      "Custom Answer: Based on the context provided, I would suggest Dubai (United Arab Emirates) as it is recommended for shopping, luxury, and families, and has a high budget. Other possible options could include Switzerland or Australia.\n",
      "--------------------------------------------------\n"
     ]
    }
   ],
   "source": [
    "q2 = \"I am wealthy and want to visit a luxurious and wealthy country. Which country would you suggest?\"\n",
    "\n",
    "print(\"Question 2:\", q2)\n",
    "print(\"\\nBasic Answer:\", basic_answer_question(q2))\n",
    "print(\"\\nCustom Answer:\", answer_question(q2, df))\n",
    "print(\"-\" * 50)"
   ]
  },
  {
   "cell_type": "code",
   "execution_count": 28,
   "id": "0e95cbaf",
   "metadata": {},
   "outputs": [
    {
     "name": "stdout",
     "output_type": "stream",
     "text": [
      "Welcome to your custom Tourism Chatbot!\n",
      "Type 'exit' to quit.\n",
      "\n",
      "Enter your question: Suggest a low-cost destination with good weather.\n",
      "\n",
      "Chatbot Answer: Vietnam or Thailand\n",
      "--------------------------------------------------\n",
      "Enter your question: Is Morocco an affordable country for tourists?\n",
      "\n",
      "Chatbot Answer: Based on the context given, it is likely that Morocco is an affordable destination for tourists with a medium budget. The recommended season for visiting Morocco is in April to June or September to November and it is recommended for both families and history enthusiasts, indicating that it is not overly expensive and has something to offer for different types of travelers. However, without knowing the specific price range for accommodations, attractions, and other expenses, it cannot be determined for certain if Morocco is affordable for all tourists.\n",
      "--------------------------------------------------\n",
      "Enter your question: I want to visit a country in spring with lots of cultural attractions. What destination should I consider?\n",
      "\n",
      "Chatbot Answer: Japan\n",
      "--------------------------------------------------\n",
      "Enter your question: Why Japan is a destination worth visiting ?\n",
      "\n",
      "Chatbot Answer: Japan is a destination worth visiting because it offers a variety of attractions and experiences, such as cherry blossom viewing in the spring, a rich cultural heritage, and popular cities like Tokyo and Kyoto.\n",
      "--------------------------------------------------\n",
      "Enter your question: exit\n",
      "Goodbye!\n"
     ]
    }
   ],
   "source": [
    "print(\"Welcome to your custom Tourism Chatbot!\")\n",
    "print(\"Type 'exit' to quit.\\n\")\n",
    "\n",
    "while True:\n",
    "    # Ask the user for a question\n",
    "    user_question = input(\"Enter your question: \")\n",
    "    \n",
    "    # Stop if the user types 'exit'\n",
    "    if user_question.lower() == \"exit\":\n",
    "        print(\"Goodbye!\")\n",
    "        break\n",
    "    \n",
    "    # Get the answer from the chatbot\n",
    "    answer = answer_question(user_question, df)\n",
    "    \n",
    "    # Print the answer\n",
    "    print(\"\\nChatbot Answer:\", answer)\n",
    "    print(\"-\" * 50)"
   ]
  }
 ],
 "metadata": {
  "kernelspec": {
   "display_name": "Python 3 (ipykernel)",
   "language": "python",
   "name": "python3"
  },
  "language_info": {
   "codemirror_mode": {
    "name": "ipython",
    "version": 3
   },
   "file_extension": ".py",
   "mimetype": "text/x-python",
   "name": "python",
   "nbconvert_exporter": "python",
   "pygments_lexer": "ipython3",
   "version": "3.9.18"
  }
 },
 "nbformat": 4,
 "nbformat_minor": 5
}
